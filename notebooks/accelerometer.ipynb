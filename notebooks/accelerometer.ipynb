{
 "cells": [
  {
   "cell_type": "code",
   "execution_count": 146,
   "metadata": {
    "collapsed": true
   },
   "outputs": [],
   "source": [
    "%matplotlib inline\n",
    "import matplotlib.pyplot as plt\n",
    "import numpy as np\n",
    "import pandas as pd\n",
    "from pylab import *"
   ]
  },
  {
   "cell_type": "code",
   "execution_count": 177,
   "metadata": {
    "collapsed": false
   },
   "outputs": [],
   "source": [
    "def bke_legend():\n",
    "    legend(loc=9, bbox_to_anchor=(0.5, -0.1), ncol=2)"
   ]
  },
  {
   "cell_type": "code",
   "execution_count": 147,
   "metadata": {
    "collapsed": false
   },
   "outputs": [],
   "source": [
    "data = pd.read_csv(\"../data/accel_rotate_on_bench.csv\")"
   ]
  },
  {
   "cell_type": "code",
   "execution_count": 148,
   "metadata": {
    "collapsed": false
   },
   "outputs": [
    {
     "data": {
      "text/html": [
       "<div style=\"max-height:1000px;max-width:1500px;overflow:auto;\">\n",
       "<table border=\"1\" class=\"dataframe\">\n",
       "  <thead>\n",
       "    <tr style=\"text-align: right;\">\n",
       "      <th></th>\n",
       "      <th>loops_per_sec</th>\n",
       "      <th>micros_per_loop</th>\n",
       "      <th>quat_w</th>\n",
       "      <th>quat_x</th>\n",
       "      <th>quat_y</th>\n",
       "      <th>quat_z</th>\n",
       "      <th>areal_x</th>\n",
       "      <th>areal_y</th>\n",
       "      <th>areal_z</th>\n",
       "      <th>aworld_x</th>\n",
       "      <th>aworld_y</th>\n",
       "      <th>aworld_z</th>\n",
       "    </tr>\n",
       "  </thead>\n",
       "  <tbody>\n",
       "    <tr>\n",
       "      <th>0</th>\n",
       "      <td>20265</td>\n",
       "      <td>49.35</td>\n",
       "      <td>0.68</td>\n",
       "      <td>0.05</td>\n",
       "      <td>-0.73</td>\n",
       "      <td>0.01</td>\n",
       "      <td>3565</td>\n",
       "      <td>239</td>\n",
       "      <td>-221</td>\n",
       "      <td>-35</td>\n",
       "      <td>20</td>\n",
       "      <td>3579</td>\n",
       "    </tr>\n",
       "    <tr>\n",
       "      <th>1</th>\n",
       "      <td>91640</td>\n",
       "      <td>10.91</td>\n",
       "      <td>0.68</td>\n",
       "      <td>0.05</td>\n",
       "      <td>-0.73</td>\n",
       "      <td>0.02</td>\n",
       "      <td>3570</td>\n",
       "      <td>275</td>\n",
       "      <td>-191</td>\n",
       "      <td>-106</td>\n",
       "      <td>89</td>\n",
       "      <td>3583</td>\n",
       "    </tr>\n",
       "    <tr>\n",
       "      <th>2</th>\n",
       "      <td>91647</td>\n",
       "      <td>10.91</td>\n",
       "      <td>0.68</td>\n",
       "      <td>0.06</td>\n",
       "      <td>-0.73</td>\n",
       "      <td>0.02</td>\n",
       "      <td>3575</td>\n",
       "      <td>301</td>\n",
       "      <td>-177</td>\n",
       "      <td>-143</td>\n",
       "      <td>128</td>\n",
       "      <td>3586</td>\n",
       "    </tr>\n",
       "    <tr>\n",
       "      <th>3</th>\n",
       "      <td>91651</td>\n",
       "      <td>10.91</td>\n",
       "      <td>0.68</td>\n",
       "      <td>0.06</td>\n",
       "      <td>-0.73</td>\n",
       "      <td>0.03</td>\n",
       "      <td>3575</td>\n",
       "      <td>307</td>\n",
       "      <td>-168</td>\n",
       "      <td>-161</td>\n",
       "      <td>139</td>\n",
       "      <td>3585</td>\n",
       "    </tr>\n",
       "    <tr>\n",
       "      <th>4</th>\n",
       "      <td>91649</td>\n",
       "      <td>10.91</td>\n",
       "      <td>0.67</td>\n",
       "      <td>0.06</td>\n",
       "      <td>-0.74</td>\n",
       "      <td>0.03</td>\n",
       "      <td>3566</td>\n",
       "      <td>326</td>\n",
       "      <td>-201</td>\n",
       "      <td>-140</td>\n",
       "      <td>164</td>\n",
       "      <td>3580</td>\n",
       "    </tr>\n",
       "  </tbody>\n",
       "</table>\n",
       "</div>"
      ],
      "text/plain": [
       "   loops_per_sec  micros_per_loop  quat_w  quat_x  quat_y  quat_z  areal_x  \\\n",
       "0          20265            49.35    0.68    0.05   -0.73    0.01     3565   \n",
       "1          91640            10.91    0.68    0.05   -0.73    0.02     3570   \n",
       "2          91647            10.91    0.68    0.06   -0.73    0.02     3575   \n",
       "3          91651            10.91    0.68    0.06   -0.73    0.03     3575   \n",
       "4          91649            10.91    0.67    0.06   -0.74    0.03     3566   \n",
       "\n",
       "   areal_y  areal_z  aworld_x  aworld_y  aworld_z  \n",
       "0      239     -221       -35        20      3579  \n",
       "1      275     -191      -106        89      3583  \n",
       "2      301     -177      -143       128      3586  \n",
       "3      307     -168      -161       139      3585  \n",
       "4      326     -201      -140       164      3580  "
      ]
     },
     "execution_count": 148,
     "metadata": {},
     "output_type": "execute_result"
    }
   ],
   "source": [
    "data.head()"
   ]
  },
  {
   "cell_type": "code",
   "execution_count": 149,
   "metadata": {
    "collapsed": false
   },
   "outputs": [
    {
     "data": {
      "text/plain": [
       "[]"
      ]
     },
     "execution_count": 149,
     "metadata": {},
     "output_type": "execute_result"
    },
    {
     "data": {
      "image/png": "[encoded data removed]",
      "text/plain": [
       "<matplotlib.figure.Figure at 0x7f815aa7e6d0>"
      ]
     },
     "metadata": {},
     "output_type": "display_data"
    }
   ],
   "source": [
    "data.quat_w.plot()\n",
    "data.quat_x.plot()\n",
    "data.quat_y.plot()\n",
    "data.quat_z.plot()\n",
    "legend(loc=9, bbox_to_anchor=(0.5, -0.1), ncol=2)\n",
    "title('quaternions')\n",
    "plot()"
   ]
  },
  {
   "cell_type": "code",
   "execution_count": 178,
   "metadata": {
    "collapsed": false
   },
   "outputs": [
    {
     "data": {
      "text/plain": [
       "[]"
      ]
     },
     "execution_count": 178,
     "metadata": {},
     "output_type": "execute_result"
    },
    {
     "data": {
      "image/png": "[encoded data removed]",
      "text/plain": [
       "<matplotlib.figure.Figure at 0x7f815aaefb50>"
      ]
     },
     "metadata": {},
     "output_type": "display_data"
    }
   ],
   "source": [
    "data.areal_x.plot()\n",
    "data.areal_y.plot()\n",
    "data.areal_z.plot()\n",
    "title('Real acceleration')\n",
    "bke_legend()\n",
    "\n",
    "plot()"
   ]
  },
  {
   "cell_type": "code",
   "execution_count": 151,
   "metadata": {
    "collapsed": false
   },
   "outputs": [],
   "source": [
    "\n",
    "def quat_angle(q1, q2):\n",
    "  return math.acos(2.* (quat_dot(q1,q2)**2.0) - 1.);\n",
    "\n",
    "def quat_dot(q1, q2):\n",
    "  return q1.w*q2.w + q1.x*q2.x +q1.y*q2.y + q1.z*q2.z\n",
    "\n",
    "def quat_mul(q1, q2):\n",
    "    x = q1.w*q2.x + q1.x*q2.w + q1.y*q2.z - q1.z*q2.y;\n",
    "    y = q1.w*q2.y + q1.y*q2.w + q1.z*q2.x - q1.x*q2.z;\n",
    "    z = q1.w*q2.z + q1.z*q2.w + q1.x*q2.y - q1.y*q2.x;\n",
    "    w = q1.w*q2.w - q1.x*q2.x - q1.y*q2.y - q1.z*q2.z;\n",
    "    return quaternion(w,x,y,z);\n",
    "\n",
    "def degrees(radians):\n",
    "  return radians * 180. / math.pi;\n",
    "\n",
    "\n",
    "class quaternion:\n",
    "  def __init__(self,w=1,x=0.,y=0.,z=0.):\n",
    "    self.w = w\n",
    "    self.x = x\n",
    "    self.y = y\n",
    "    self.z = z\n",
    "    self._normalize()\n",
    "  def __repr__(self):\n",
    "    return '({0},{1},{2},{3})'.format(self.w,self.x,self.y,self.z)\n",
    "  def dot(self, q2):\n",
    "        return quat_dot(self,q2)\n",
    "  def angle(self,q2):\n",
    "    return quat_angle(self,q2)\n",
    "  def mul(self, q2):\n",
    "    return quat_mul(self,q2)\n",
    "  def vmul(self,v):\n",
    "    q2 = quaternion(0.0,v[0],v[1],v[2])\n",
    "    q1 = self\n",
    "    rv = quat_mul(quat_mul(q1, q2), q1.conjugate())\n",
    "    return [rv.x,rv.y,rv.z]\n",
    "  def inverse(self):\n",
    "    return self.conjugate()._normalize();\n",
    "  def diff(self, q2):\n",
    "    return self.inverse().mul(q2)\n",
    "  def div(self, q2):\n",
    "    return quat_mul(self,q2.conjugate())\n",
    "  def conjugate(self):\n",
    "    return quaternion(self.w,-self.x,-self.y,-self.z)\n",
    "  def _magnitude(self):\n",
    "    return math.sqrt(self.w*self.w+self.x*self.x+self.y*self.y+self.z*self.z);\n",
    "  def _normalize(self):\n",
    "    m = self._magnitude()\n",
    "    self.w = self.w/m\n",
    "    self.x = self.x/m\n",
    "    self.y = self.y/m\n",
    "    self.z = self.z/m\n",
    "    return self\n",
    "    \n"
   ]
  },
  {
   "cell_type": "code",
   "execution_count": 152,
   "metadata": {
    "collapsed": false
   },
   "outputs": [],
   "source": [
    "q0 = quaternion(1,0,0,0)\n",
    "q1 = quaternion(0,1,0,0)"
   ]
  },
  {
   "cell_type": "code",
   "execution_count": 181,
   "metadata": {
    "collapsed": false
   },
   "outputs": [
    {
     "name": "stdout",
     "output_type": "stream",
     "text": [
      "0.0\n",
      "180.0\n",
      "1.0\n"
     ]
    }
   ],
   "source": [
    "print q0.angle(q0)\n",
    "print degrees(q0.angle(q1))\n",
    "print q1.dot(q1)"
   ]
  },
  {
   "cell_type": "code",
   "execution_count": 155,
   "metadata": {
    "collapsed": false
   },
   "outputs": [],
   "source": [
    "quats = [quaternion(x['quat_w'], x['quat_x'], x['quat_y'], x['quat_z']) for index,x in data.iterrows()]\n"
   ]
  },
  {
   "cell_type": "code",
   "execution_count": 169,
   "metadata": {
    "collapsed": true
   },
   "outputs": [],
   "source": [
    "# return angle quaternion q rotates about unit normal vector n\n",
    "def normal_angle(q,n):\n",
    "    # find unit vector normal to n to make our x axis\n",
    "    # todo: make sure it isn't parallel\n",
    "    vx = normalize(project([1.,1.,1.],n))\n",
    "\n",
    "    # find unit vector orthogonal to vx and n to make our y axis\n",
    "    vy = np.cross(n,vx)\n",
    "\n",
    "    # rotate it\n",
    "    rotx = q.vmul(vx)\n",
    "\n",
    "    # project onto plane\n",
    "    rotx = project(rotx,n)\n",
    "    \n",
    "    # express in terms of vx,vy\n",
    "    x,y = normalize([np.dot(vx,rotx), np.dot(vy,rotx)])\n",
    "    \n",
    "    # return angle\n",
    "    return math.atan2(y,x)\n"
   ]
  },
  {
   "cell_type": "code",
   "execution_count": 180,
   "metadata": {
    "collapsed": false
   },
   "outputs": [
    {
     "data": {
      "image/png": "[encoded data removed]",
      "text/plain": [
       "<matplotlib.figure.Figure at 0x7f815a269d50>"
      ]
     },
     "metadata": {},
     "output_type": "display_data"
    }
   ],
   "source": [
    "angles = [degrees(normal_angle(q.diff(quats[0]),g)) for q in quats]\n",
    "quat_angles = [degrees(q.angle(quats[0])) for q in quats]\n",
    "plot(angles, label='ground angles')\n",
    "plot(quat_angles, label = 'quat angles')\n",
    "bke_legend()\n"
   ]
  }
 ],
 "metadata": {
  "kernelspec": {
   "display_name": "Python 2",
   "language": "python",
   "name": "python2"
  },
  "language_info": {
   "codemirror_mode": {
    "name": "ipython",
    "version": 2
   },
   "file_extension": ".py",
   "mimetype": "text/x-python",
   "name": "python",
   "nbconvert_exporter": "python",
   "pygments_lexer": "ipython2",
   "version": "2.7.8"
  },
  "name": "accelerometer.ipynb"
 },
 "nbformat": 4,
 "nbformat_minor": 0
}
