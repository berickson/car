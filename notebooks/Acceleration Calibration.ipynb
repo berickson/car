{
 "cells": [
  {
   "cell_type": "code",
   "execution_count": 218,
   "metadata": {
    "collapsed": false
   },
   "outputs": [],
   "source": [
    "import numpy as np\n",
    "\n",
    "a_rest = np.array([7569,-1699,-365,1])\n",
    "a_upside_down = np.array([-8361,1051,1700,1])\n",
    "a_nose_up = np.array([1062,-293,8702,1])\n",
    "a_nose_down = np.array([-1534,-366,-7455,1])\n",
    "a_left = np.array([1241,7866,1147,1])\n",
    "a_right = np.array([-1365,-8199,531,1])\n",
    "\n",
    "aa_rest = np.array([0,0,-1])\n",
    "aa_upside_down = np.array([0,0,1])\n",
    "aa_nose_up = np.array([1,0,0])\n",
    "aa_nose_down = np.array([-1,0,0])\n",
    "aa_left = np.array([0,-1,0])\n",
    "aa_right = np.array([0,1,0])"
   ]
  },
  {
   "cell_type": "code",
   "execution_count": 219,
   "metadata": {
    "collapsed": false
   },
   "outputs": [
    {
     "data": {
      "text/plain": [
       "7765.9248000479638"
      ]
     },
     "execution_count": 219,
     "metadata": {},
     "output_type": "execute_result"
    }
   ],
   "source": [
    "np.linalg.norm(a_rest)"
   ]
  },
  {
   "cell_type": "code",
   "execution_count": 220,
   "metadata": {
    "collapsed": false
   },
   "outputs": [
    {
     "data": {
      "text/plain": [
       "8603.2890222286496"
      ]
     },
     "execution_count": 220,
     "metadata": {},
     "output_type": "execute_result"
    }
   ],
   "source": [
    "np.linalg.norm(a_raw_upside_down)"
   ]
  },
  {
   "cell_type": "code",
   "execution_count": 221,
   "metadata": {
    "collapsed": false
   },
   "outputs": [
    {
     "data": {
      "text/plain": [
       "array([-472, -659, 1247,    2])"
      ]
     },
     "execution_count": 221,
     "metadata": {},
     "output_type": "execute_result"
    }
   ],
   "source": [
    "a_nose_up + a_nose_down"
   ]
  },
  {
   "cell_type": "code",
   "execution_count": 222,
   "metadata": {
    "collapsed": false
   },
   "outputs": [
    {
     "data": {
      "text/plain": [
       "array([-792, -648, 1335,    2])"
      ]
     },
     "execution_count": 222,
     "metadata": {},
     "output_type": "execute_result"
    }
   ],
   "source": [
    "a_rest + a_upside_down"
   ]
  },
  {
   "cell_type": "code",
   "execution_count": 223,
   "metadata": {
    "collapsed": false
   },
   "outputs": [
    {
     "data": {
      "text/plain": [
       "array([-316, -327,  645,    1])"
      ]
     },
     "execution_count": 223,
     "metadata": {},
     "output_type": "execute_result"
    }
   ],
   "source": [
    "(a_rest+a_upside_down+a_nose_up+a_nose_down)/4"
   ]
  },
  {
   "cell_type": "code",
   "execution_count": 224,
   "metadata": {
    "collapsed": false
   },
   "outputs": [],
   "source": [
    "y = np.array([aa_rest,aa_upside_down,aa_nose_up,aa_nose_down,aa_left,aa_right])\n",
    "#y *= 1000"
   ]
  },
  {
   "cell_type": "code",
   "execution_count": 225,
   "metadata": {
    "collapsed": false
   },
   "outputs": [
    {
     "data": {
      "text/plain": [
       "array([[ 7569, -1699,  -365,     1],\n",
       "       [-8361,  1051,  1700,     1],\n",
       "       [ 1062,  -293,  8702,     1],\n",
       "       [-1534,  -366, -7455,     1],\n",
       "       [ 1241,  7866,  1147,     1],\n",
       "       [-1365, -8199,   531,     1]])"
      ]
     },
     "execution_count": 225,
     "metadata": {},
     "output_type": "execute_result"
    }
   ],
   "source": [
    "a = np.array([a_rest,a_upside_down,a_nose_up,a_nose_down,a_left,a_right])\n",
    "a"
   ]
  },
  {
   "cell_type": "code",
   "execution_count": 226,
   "metadata": {
    "collapsed": false
   },
   "outputs": [],
   "source": [
    "ai = np.linalg.pinv(a)"
   ]
  },
  {
   "cell_type": "code",
   "execution_count": 227,
   "metadata": {
    "collapsed": false
   },
   "outputs": [
    {
     "data": {
      "text/plain": [
       "array([[ 1.,  0.,  0., -0.],\n",
       "       [-0.,  1.,  0., -0.],\n",
       "       [ 0., -0.,  1.,  0.],\n",
       "       [-0.,  0., -0.,  1.]])"
      ]
     },
     "execution_count": 227,
     "metadata": {},
     "output_type": "execute_result"
    }
   ],
   "source": [
    "np.dot(ai,a)"
   ]
  },
  {
   "cell_type": "code",
   "execution_count": 228,
   "metadata": {
    "collapsed": false
   },
   "outputs": [
    {
     "data": {
      "text/plain": [
       "array([[ 0.    , -0.    , -0.0001],\n",
       "       [-0.    , -0.0001,  0.    ],\n",
       "       [ 0.0001,  0.    ,  0.    ],\n",
       "       [-0.0848, -0.0406, -0.0362]])"
      ]
     },
     "execution_count": 228,
     "metadata": {},
     "output_type": "execute_result"
    }
   ],
   "source": [
    "np.set_printoptions(precision=4,suppress=True)\n",
    "x = np.dot(ai,y)\n",
    "x"
   ]
  },
  {
   "cell_type": "code",
   "execution_count": 229,
   "metadata": {
    "collapsed": false
   },
   "outputs": [
    {
     "data": {
      "text/plain": [
       "array([[-0.0075691156,  0.0097427118, -0.9814691973],\n",
       "       [-0.0068051627,  0.0089319589,  1.0173763654],\n",
       "       [ 0.9893674542,  0.0069830886, -0.0017728495],\n",
       "       [-1.0097181986,  0.006161653 , -0.0025368025],\n",
       "       [ 0.0169517935, -1.015525725 , -0.0153933816],\n",
       "       [ 0.0177732291,  0.9837063128, -0.0162041345]])"
      ]
     },
     "execution_count": 229,
     "metadata": {},
     "output_type": "execute_result"
    }
   ],
   "source": [
    "np.set_printoptions(precision=10,suppress=True)\n",
    "np.dot(a,x)"
   ]
  },
  {
   "cell_type": "code",
   "execution_count": 230,
   "metadata": {
    "collapsed": false
   },
   "outputs": [
    {
     "data": {
      "text/plain": [
       "array([-0.0048109753, -0.018814026 , -0.9826080169])"
      ]
     },
     "execution_count": 230,
     "metadata": {},
     "output_type": "execute_result"
    }
   ],
   "source": [
    "np.dot([7619,-1471,-335,1],x)"
   ]
  },
  {
   "cell_type": "code",
   "execution_count": 231,
   "metadata": {
    "collapsed": false
   },
   "outputs": [
    {
     "data": {
      "text/plain": [
       "array([-0.0427129719,  0.0017369818, -0.9828866367])"
      ]
     },
     "execution_count": 231,
     "metadata": {},
     "output_type": "execute_result"
    }
   ],
   "source": [
    "np.dot([7636,-1315,-373,1],x)\n",
    "np.dot([7545,-1638,-648,1],x)"
   ]
  },
  {
   "cell_type": "code",
   "execution_count": 232,
   "metadata": {
    "collapsed": false
   },
   "outputs": [
    {
     "data": {
      "text/plain": [
       "array([[ 0.0000144756, -0.0000203849, -0.0001197524],\n",
       "       [-0.0000070556, -0.0001212882,  0.0000187399],\n",
       "       [ 0.0001214348,  0.0000038742,  0.0000192036],\n",
       "       [-0.0847985645, -0.0406184776, -0.0362150665]])"
      ]
     },
     "execution_count": 232,
     "metadata": {},
     "output_type": "execute_result"
    }
   ],
   "source": [
    "x"
   ]
  },
  {
   "cell_type": "code",
   "execution_count": null,
   "metadata": {
    "collapsed": true
   },
   "outputs": [],
   "source": []
  }
 ],
 "metadata": {
  "kernelspec": {
   "display_name": "Python 2",
   "language": "python",
   "name": "python2"
  },
  "language_info": {
   "codemirror_mode": {
    "name": "ipython",
    "version": 2
   },
   "file_extension": ".py",
   "mimetype": "text/x-python",
   "name": "python",
   "nbconvert_exporter": "python",
   "pygments_lexer": "ipython2",
   "version": "2.7.10"
  }
 },
 "nbformat": 4,
 "nbformat_minor": 0
}
