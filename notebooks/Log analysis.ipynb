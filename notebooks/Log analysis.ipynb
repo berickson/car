{
 "cells": [
  {
   "cell_type": "code",
   "execution_count": null,
   "metadata": {
    "collapsed": true
   },
   "outputs": [],
   "source": [
    "recording_path = \"output.log.1\""
   ]
  },
  {
   "cell_type": "code",
   "execution_count": null,
   "metadata": {
    "collapsed": false
   },
   "outputs": [],
   "source": [
    "%matplotlib inline\n",
    "import matplotlib.pyplot as plt\n",
    "import numpy as np\n",
    "import pandas as pd\n",
    "from pylab import *\n",
    "\n",
    "import plotly\n",
    "print plotly.__version__            # version 1.9.x required\n",
    "plotly.offline.init_notebook_mode() # run at the start of every notebook"
   ]
  },
  {
   "cell_type": "code",
   "execution_count": null,
   "metadata": {
    "collapsed": false
   },
   "outputs": [],
   "source": [
    "data = pd.read_csv(\n",
    "    recording_path,\n",
    "    header=None,\n",
    "    names=['datetime','msg','lbl_str','str','lbl_esc','esc','lbl_aa','ax','ay','az','lbl_angle','heading','lbl_rpm','rpm_raw','rpm','rpm_delta','rpm_odo','lbl_ping','ping','lbl_odo','odo','lbl_ms','ms','lbl_us','us','lbl_ypr','yaw','pitch','roll'],\n",
    "    dtype=str,\n",
    "    index_col=0,\n",
    "    parse_dates = True,\n",
    "    error_bad_lines = False)"
   ]
  },
  {
   "cell_type": "code",
   "execution_count": null,
   "metadata": {
    "collapsed": false
   },
   "outputs": [],
   "source": [
    "(data.index[4] - data.index[3]).total_seconds()\n"
   ]
  },
  {
   "cell_type": "code",
   "execution_count": null,
   "metadata": {
    "collapsed": true
   },
   "outputs": [],
   "source": [
    "data = data[(data['msg'] == 'TRACE_DYNAMICS')]\n",
    "for c in data.columns:\n",
    "  data = data[(data[c] != None)]\n",
    "h = data.head()"
   ]
  },
  {
   "cell_type": "code",
   "execution_count": null,
   "metadata": {
    "collapsed": false
   },
   "outputs": [],
   "source": [
    "def float_or_nan(a):\n",
    "  try:\n",
    "    return float(a)\n",
    "  except:\n",
    "    return float('nan')"
   ]
  },
  {
   "cell_type": "code",
   "execution_count": null,
   "metadata": {
    "collapsed": true
   },
   "outputs": [],
   "source": [
    "import math\n",
    "def force_float(df,column):\n",
    "    df[column] = df[column].apply(float_or_nan)\n",
    "    bad = df[column].apply(math.isnan)\n",
    "    df = df[bad==False]\n",
    "    return df"
   ]
  },
  {
   "cell_type": "code",
   "execution_count": null,
   "metadata": {
    "collapsed": false
   },
   "outputs": [],
   "source": [
    "for column in ['str','esc','ax','ay','az','heading','rpm_raw','rpm','rpm_delta','rpm_odo','ping','odo','ms','us','yaw','pitch','roll']:\n",
    "    print 'cleansing', column\n",
    "    print 'rows before', len(data)\n",
    "    data = force_float(data,column)\n",
    "    print 'rows after', len(data)"
   ]
  },
  {
   "cell_type": "code",
   "execution_count": null,
   "metadata": {
    "collapsed": false
   },
   "outputs": [],
   "source": [
    "data['secs'] = (data.index - data.index[0]) / np.timedelta64(1, 's')\n",
    "#data['secs'] \n",
    "data['odo_ticks_per_sec'] = data.odo.diff() / data.secs.diff()\n",
    "data['meters_per_sec'] = data['odo_ticks_per_sec'] * 0.003411\n",
    "data['mph'] = data['meters_per_sec'] * 2.23694\n",
    "data['odo_ax'] = data.meters_per_sec.diff(30)/data.secs.diff(30)\n",
    "#data.speed = data.odo.diff()/data.secs.diff()"
   ]
  },
  {
   "cell_type": "code",
   "execution_count": null,
   "metadata": {
    "collapsed": false
   },
   "outputs": [],
   "source": [
    "#remove when we are standing still\n",
    "data = data[(data['mph']!=0)]\n",
    "len(data)"
   ]
  },
  {
   "cell_type": "code",
   "execution_count": null,
   "metadata": {
    "collapsed": false
   },
   "outputs": [],
   "source": [
    "hist(data.esc,bins=20)\n",
    "\n",
    "\n",
    "\n",
    "ft = data.query('esc > 1900 & esc <= 1910')"
   ]
  },
  {
   "cell_type": "code",
   "execution_count": null,
   "metadata": {
    "collapsed": false
   },
   "outputs": [],
   "source": [
    "#plot(ft.mph, ft.ax)\n",
    "plotly.offline.iplot({\n",
    "    \"data\": [\n",
    "            {\"x\": ft.mph, \"y\":ft.ax, \"mode\":\"markers\"},\n",
    "            ],\n",
    "    \"layout\": {\n",
    "        \"title\": 'acceleration vs speed in 1900-1910 range'\n",
    "    }\n",
    "})"
   ]
  },
  {
   "cell_type": "code",
   "execution_count": null,
   "metadata": {
    "collapsed": false
   },
   "outputs": [],
   "source": [
    "#ticklabel_format(style='plain')\n",
    "\n",
    "plot(data.secs,data.odo_ticks_per_sec)\n",
    "plot(data.secs,data.rpm)\n",
    "\n",
    "t = data.index-data.index[0]\n"
   ]
  },
  {
   "cell_type": "code",
   "execution_count": null,
   "metadata": {
    "collapsed": false
   },
   "outputs": [],
   "source": [
    "plot(data.odo_ticks_per_sec)"
   ]
  },
  {
   "cell_type": "code",
   "execution_count": null,
   "metadata": {
    "collapsed": false
   },
   "outputs": [],
   "source": [
    "\n",
    "plotly.offline.iplot({\n",
    "    \"data\": [\n",
    "            {\"x\": data.secs,\"y\": data.rpm,\"name\":'rpm'}, \n",
    "            {\"x\": data.secs, \"y\":data.odo_ticks_per_sec, \"name\":'odo_ticks_per_sec'},\n",
    "            {\"x\": data.secs, \"y\":data.heading, \"name\":'heading'}],\n",
    "    \"layout\": {\n",
    "        \"title\": recording_path\n",
    "    }\n",
    "})"
   ]
  },
  {
   "cell_type": "code",
   "execution_count": null,
   "metadata": {
    "collapsed": false
   },
   "outputs": [],
   "source": [
    "plotly.offline.iplot({\n",
    "    \"data\": [\n",
    "            {\"x\": data.secs, \"y\":data.heading, \"name\":'heading'}],\n",
    "    \"layout\": {\n",
    "        \"title\": recording_path\n",
    "    }\n",
    "})"
   ]
  },
  {
   "cell_type": "code",
   "execution_count": null,
   "metadata": {
    "collapsed": false
   },
   "outputs": [],
   "source": [
    "plotly.offline.iplot({\n",
    "    \"data\": [\n",
    "            {\"x\": data.secs, \"y\":data.ax, \"name\":'ax'},\n",
    "            {\"x\": data.secs, \"y\":data.ay, \"name\":'ay'},\n",
    "            {\"x\": data.secs, \"y\":data.az, \"name\":'az'}],\n",
    "    \"layout\": {\n",
    "        \"title\": recording_path\n",
    "    }\n",
    "})"
   ]
  },
  {
   "cell_type": "code",
   "execution_count": null,
   "metadata": {
    "collapsed": false
   },
   "outputs": [],
   "source": [
    "plotly.offline.iplot({\n",
    "    \"data\": [\n",
    "            {\"x\": data.secs, \"y\":data.az/4, \"name\":'az (scaled)'},\n",
    "            #{\"x\": data.secs, \"y\":data.rpm*48./32., \"name\":'rpm*48/32'},\n",
    "            {\"x\": data.secs, \"y\":data.odo_ticks_per_sec, \"name\":'odo_ticks_per_sec'}],\n",
    "    \"layout\": {\n",
    "        \"title\": recording_path\n",
    "    }\n",
    "})"
   ]
  },
  {
   "cell_type": "code",
   "execution_count": null,
   "metadata": {
    "collapsed": false
   },
   "outputs": [],
   "source": [
    "plotly.offline.iplot({\n",
    "    \"data\": [\n",
    "            {\"x\": data.secs, \"y\":data.meters_per_sec, \"name\":'meters_per_sec'}\n",
    "            ],\n",
    "    \"layout\": {\n",
    "        \"title\": recording_path\n",
    "    }\n",
    "})"
   ]
  },
  {
   "cell_type": "code",
   "execution_count": null,
   "metadata": {
    "collapsed": false
   },
   "outputs": [],
   "source": [
    "plotly.offline.iplot({\n",
    "    \"data\": [\n",
    "            {\"x\": data.secs, \"y\":data.mph, \"name\":'mph',\"mode\":\"markers\"},\n",
    "            {\"x\": data.secs, \"y\":(data.esc-1500)/20., \"name\":'esc',\"mode\":'markers'},\n",
    "            {\"x\": data.secs, \"y\":data.ax, \"name\":'ax', \"mode\":'markers'}\n",
    "            ],\n",
    "    \"layout\": {\n",
    "        \"title\": recording_path\n",
    "    }\n",
    "})"
   ]
  },
  {
   "cell_type": "code",
   "execution_count": null,
   "metadata": {
    "collapsed": false
   },
   "outputs": [],
   "source": [
    "plotly.offline.iplot({\n",
    "    \"data\": [\n",
    "            {\"x\": data.secs, \"y\":data.esc, \"name\":'esc'}\n",
    "            ],\n",
    "    \"layout\": {\n",
    "        \"title\": recording_path\n",
    "    }\n",
    "})"
   ]
  },
  {
   "cell_type": "code",
   "execution_count": null,
   "metadata": {
    "collapsed": false
   },
   "outputs": [],
   "source": [
    "plotly.offline.iplot({\n",
    "    \"data\": [\n",
    "            {\"x\": data.secs, \"y\":data.ax, \"name\":'ax'},\n",
    "            {\"x\": data.secs, \"y\":data.ay, \"name\":'ay'},\n",
    "            {\"x\": data.secs, \"y\":data.ay, \"name\":'az'},\n",
    "            ],\n",
    "    \"layout\": {\n",
    "        \"title\": recording_path\n",
    "    }\n",
    "})"
   ]
  },
  {
   "cell_type": "code",
   "execution_count": null,
   "metadata": {
    "collapsed": false
   },
   "outputs": [],
   "source": [
    "plotly.offline.iplot({\n",
    "    \"data\": [\n",
    "            {\"x\": data.secs,\"y\": data.meters_per_sec,\"name\":'m/s'}, \n",
    "            {\"x\": data.secs, \"y\":data.ax, \"name\":'ax'},\n",
    "            {\"x\": data.secs, \"y\":data.odo_ax, \"name\":'odo_ax'}\n",
    "            ],\n",
    "    \"layout\": {\n",
    "        \"title\": recording_path\n",
    "    }\n",
    "})"
   ]
  },
  {
   "cell_type": "code",
   "execution_count": null,
   "metadata": {
    "collapsed": true
   },
   "outputs": [],
   "source": []
  }
 ],
 "metadata": {
  "kernelspec": {
   "display_name": "Python 2",
   "language": "python",
   "name": "python2"
  },
  "language_info": {
   "codemirror_mode": {
    "name": "ipython",
    "version": 2
   },
   "file_extension": ".py",
   "mimetype": "text/x-python",
   "name": "python",
   "nbconvert_exporter": "python",
   "pygments_lexer": "ipython2",
   "version": "2.7.10"
  }
 },
 "nbformat": 4,
 "nbformat_minor": 0
}
