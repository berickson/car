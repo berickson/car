{
 "cells": [
  {
   "cell_type": "code",
   "execution_count": 1,
   "metadata": {
    "collapsed": false
   },
   "outputs": [],
   "source": [
    "import pandas as pd\n",
    "import math\n",
    "import matplotlib.pyplot as plt\n",
    "import numpy as np\n",
    "%matplotlib inline"
   ]
  },
  {
   "cell_type": "code",
   "execution_count": 30,
   "metadata": {
    "collapsed": false
   },
   "outputs": [],
   "source": [
    "scans = pd.read_csv('/home/brian/car/lidar/lidar_gui/Debug/recording.csv');\n",
    "scans['radians'] = scans.degrees * math.pi/180.\n",
    "scans['x_meters'] = scans.distance_meters*np.cos(scans.radians)\n",
    "scans['y_meters'] = scans.distance_meters*np.sin(scans.radians)"
   ]
  },
  {
   "cell_type": "code",
   "execution_count": 31,
   "metadata": {
    "collapsed": false
   },
   "outputs": [
    {
     "data": {
      "text/plain": [
       "[<matplotlib.lines.Line2D at 0x7f3a4398b320>]"
      ]
     },
     "execution_count": 31,
     "metadata": {},
     "output_type": "execute_result"
    },
    {
     "data": {
      "image/png": "[encoded data removed]",
      "text/plain": [
       "<matplotlib.figure.Figure at 0x7f3a4382bbe0>"
      ]
     },
     "metadata": {},
     "output_type": "display_data"
    }
   ],
   "source": [
    "plt.plot(scans.radians)"
   ]
  },
  {
   "cell_type": "code",
   "execution_count": 32,
   "metadata": {
    "collapsed": false
   },
   "outputs": [],
   "source": [
    "scan_number = scans.scan_number[0]"
   ]
  },
  {
   "cell_type": "code",
   "execution_count": 33,
   "metadata": {
    "collapsed": false
   },
   "outputs": [],
   "source": [
    "scan1 = scans[scans.scan_number == scan_number]\n"
   ]
  },
  {
   "cell_type": "code",
   "execution_count": 34,
   "metadata": {
    "collapsed": false
   },
   "outputs": [
    {
     "data": {
      "text/html": [
       "<div>\n",
       "<table border=\"1\" class=\"dataframe\">\n",
       "  <thead>\n",
       "    <tr style=\"text-align: right;\">\n",
       "      <th></th>\n",
       "      <th>scan_number</th>\n",
       "      <th>degrees</th>\n",
       "      <th>distance_meters</th>\n",
       "      <th>signal_strength</th>\n",
       "      <th>radians</th>\n",
       "      <th>x_meters</th>\n",
       "      <th>y_meters</th>\n",
       "    </tr>\n",
       "  </thead>\n",
       "  <tbody>\n",
       "    <tr>\n",
       "      <th>count</th>\n",
       "      <td>360.0</td>\n",
       "      <td>360.000000</td>\n",
       "      <td>208.000000</td>\n",
       "      <td>208.000000</td>\n",
       "      <td>360.000000</td>\n",
       "      <td>208.000000</td>\n",
       "      <td>208.000000</td>\n",
       "    </tr>\n",
       "    <tr>\n",
       "      <th>mean</th>\n",
       "      <td>59.0</td>\n",
       "      <td>179.500000</td>\n",
       "      <td>0.952404</td>\n",
       "      <td>227.740385</td>\n",
       "      <td>3.132866</td>\n",
       "      <td>-0.213057</td>\n",
       "      <td>0.300655</td>\n",
       "    </tr>\n",
       "    <tr>\n",
       "      <th>std</th>\n",
       "      <td>0.0</td>\n",
       "      <td>104.067286</td>\n",
       "      <td>0.553170</td>\n",
       "      <td>127.127688</td>\n",
       "      <td>1.816317</td>\n",
       "      <td>0.682845</td>\n",
       "      <td>0.784048</td>\n",
       "    </tr>\n",
       "    <tr>\n",
       "      <th>min</th>\n",
       "      <td>59.0</td>\n",
       "      <td>0.000000</td>\n",
       "      <td>0.218000</td>\n",
       "      <td>6.000000</td>\n",
       "      <td>0.000000</td>\n",
       "      <td>-1.242740</td>\n",
       "      <td>-3.092896</td>\n",
       "    </tr>\n",
       "    <tr>\n",
       "      <th>25%</th>\n",
       "      <td>59.0</td>\n",
       "      <td>89.750000</td>\n",
       "      <td>0.502000</td>\n",
       "      <td>166.000000</td>\n",
       "      <td>1.566433</td>\n",
       "      <td>-0.749410</td>\n",
       "      <td>-0.240784</td>\n",
       "    </tr>\n",
       "    <tr>\n",
       "      <th>50%</th>\n",
       "      <td>59.0</td>\n",
       "      <td>179.500000</td>\n",
       "      <td>0.986000</td>\n",
       "      <td>222.000000</td>\n",
       "      <td>3.132866</td>\n",
       "      <td>-0.255346</td>\n",
       "      <td>0.203078</td>\n",
       "    </tr>\n",
       "    <tr>\n",
       "      <th>75%</th>\n",
       "      <td>59.0</td>\n",
       "      <td>269.250000</td>\n",
       "      <td>1.116000</td>\n",
       "      <td>256.250000</td>\n",
       "      <td>4.699299</td>\n",
       "      <td>0.288182</td>\n",
       "      <td>0.857762</td>\n",
       "    </tr>\n",
       "    <tr>\n",
       "      <th>max</th>\n",
       "      <td>59.0</td>\n",
       "      <td>359.000000</td>\n",
       "      <td>4.021000</td>\n",
       "      <td>928.000000</td>\n",
       "      <td>6.265732</td>\n",
       "      <td>2.583410</td>\n",
       "      <td>3.124904</td>\n",
       "    </tr>\n",
       "  </tbody>\n",
       "</table>\n",
       "</div>"
      ],
      "text/plain": [
       "       scan_number     degrees  distance_meters  signal_strength     radians  \\\n",
       "count        360.0  360.000000       208.000000       208.000000  360.000000   \n",
       "mean          59.0  179.500000         0.952404       227.740385    3.132866   \n",
       "std            0.0  104.067286         0.553170       127.127688    1.816317   \n",
       "min           59.0    0.000000         0.218000         6.000000    0.000000   \n",
       "25%           59.0   89.750000         0.502000       166.000000    1.566433   \n",
       "50%           59.0  179.500000         0.986000       222.000000    3.132866   \n",
       "75%           59.0  269.250000         1.116000       256.250000    4.699299   \n",
       "max           59.0  359.000000         4.021000       928.000000    6.265732   \n",
       "\n",
       "         x_meters    y_meters  \n",
       "count  208.000000  208.000000  \n",
       "mean    -0.213057    0.300655  \n",
       "std      0.682845    0.784048  \n",
       "min     -1.242740   -3.092896  \n",
       "25%     -0.749410   -0.240784  \n",
       "50%     -0.255346    0.203078  \n",
       "75%      0.288182    0.857762  \n",
       "max      2.583410    3.124904  "
      ]
     },
     "execution_count": 34,
     "metadata": {},
     "output_type": "execute_result"
    }
   ],
   "source": [
    "scan1.describe()"
   ]
  },
  {
   "cell_type": "code",
   "execution_count": 37,
   "metadata": {
    "collapsed": false
   },
   "outputs": [
    {
     "data": {
      "text/plain": [
       "[<matplotlib.lines.Line2D at 0x7f3a437e0710>]"
      ]
     },
     "execution_count": 37,
     "metadata": {},
     "output_type": "execute_result"
    },
    {
     "data": {
      "image/png": "[encoded data removed]",
      "text/plain": [
       "<matplotlib.figure.Figure at 0x7f3a43c95780>"
      ]
     },
     "metadata": {},
     "output_type": "display_data"
    }
   ],
   "source": [
    "plt.axis('equal')\n",
    "plt.plot(scan1.x_meters,scan1.y_meters,'b.')"
   ]
  },
  {
   "cell_type": "code",
   "execution_count": null,
   "metadata": {
    "collapsed": false
   },
   "outputs": [],
   "source": [
    "\n",
    "\n",
    "scan1.distance_meters * scan1.distance_meters"
   ]
  },
  {
   "cell_type": "code",
   "execution_count": 70,
   "metadata": {
    "collapsed": false
   },
   "outputs": [],
   "source": [
    "def normalize(h):\n",
    "    return (float(h[0])/float(h[2]),float(h[1])/float(h[2]),1.)\n"
   ]
  },
  {
   "cell_type": "code",
   "execution_count": 92,
   "metadata": {
    "collapsed": true
   },
   "outputs": [],
   "source": [
    "def distance_point_to_line(p,l):\n",
    "    return np.abs(np.dot(normalize(l),normalize(p)))"
   ]
  },
  {
   "cell_type": "code",
   "execution_count": 102,
   "metadata": {
    "collapsed": false
   },
   "outputs": [],
   "source": [
    "# returns true if all points in x,y are along the same line\n",
    "# Homeogeneous math here:\n",
    "#    http://homepages.inf.ed.ac.uk/rbf/CVonline/LOCAL_COPIES/BEARDSLEY/node2.html\n",
    "def is_line(x,y,tolerance=0.02):\n",
    "    # make homogeneous points out of x and y vectors\n",
    "    points = [(x[i],y[i],1.) for i in range(len(x))]\n",
    "    line = np.cross(points[0],points[-1])\n",
    "    print(line)\n",
    "    for p in points:\n",
    "        d = distance_point_to_line(p,line)\n",
    "        if d > tolerance:\n",
    "            return False\n",
    "    return True\n",
    "\n",
    "    "
   ]
  },
  {
   "cell_type": "code",
   "execution_count": null,
   "metadata": {
    "collapsed": false
   },
   "outputs": [],
   "source": []
  },
  {
   "cell_type": "code",
   "execution_count": 103,
   "metadata": {
    "collapsed": false
   },
   "outputs": [
    {
     "name": "stdout",
     "output_type": "stream",
     "text": [
      "[ 0.  2. -2.]\n"
     ]
    },
    {
     "data": {
      "text/plain": [
       "False"
      ]
     },
     "execution_count": 103,
     "metadata": {},
     "output_type": "execute_result"
    }
   ],
   "source": [
    "is_line([1.,2.,3.],[1.,1.1,1])"
   ]
  },
  {
   "cell_type": "code",
   "execution_count": 97,
   "metadata": {
    "collapsed": false
   },
   "outputs": [
    {
     "ename": "SyntaxError",
     "evalue": "unexpected EOF while parsing (<ipython-input-97-99764ddcc5ba>, line 9)",
     "output_type": "error",
     "traceback": [
      "\u001b[0;36m  File \u001b[0;32m\"<ipython-input-97-99764ddcc5ba>\"\u001b[0;36m, line \u001b[0;32m9\u001b[0m\n\u001b[0;31m    \u001b[0m\n\u001b[0m    ^\u001b[0m\n\u001b[0;31mSyntaxError\u001b[0m\u001b[0;31m:\u001b[0m unexpected EOF while parsing\n"
     ]
    }
   ],
   "source": [
    "# returns tuples of indexes of endpoints of all lines\n",
    "# start at an index\n",
    "# go ccw while still a line\n",
    "# go cw while still a line\n",
    "def find_lines(x,y,tolerance=0.1):\n",
    "    start=0\n",
    "    end=1\n",
    "    if is_line(x[start:end], y[star:end], tolerance):\n",
    "    \n"
   ]
  },
  {
   "cell_type": "code",
   "execution_count": null,
   "metadata": {
    "collapsed": true
   },
   "outputs": [],
   "source": []
  }
 ],
 "metadata": {
  "anaconda-cloud": {},
  "kernelspec": {
   "display_name": "Python [default]",
   "language": "python",
   "name": "python3"
  },
  "language_info": {
   "codemirror_mode": {
    "name": "ipython",
    "version": 3
   },
   "file_extension": ".py",
   "mimetype": "text/x-python",
   "name": "python",
   "nbconvert_exporter": "python",
   "pygments_lexer": "ipython3",
   "version": "3.5.3"
  }
 },
 "nbformat": 4,
 "nbformat_minor": 2
}
